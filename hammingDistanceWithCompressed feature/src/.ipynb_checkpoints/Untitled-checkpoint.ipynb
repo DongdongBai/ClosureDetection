{
 "cells": [
  {
   "cell_type": "code",
   "execution_count": 1,
   "metadata": {
    "collapsed": false
   },
   "outputs": [
    {
     "name": "stdout",
     "output_type": "stream",
     "text": [
      "Load Hamming distance of (pool5) is OK!\n",
      "max distance is (544)\n",
      "min distance is (90)\n",
      "The original feature of (fc6) has been read!Ths shape is (2474, 4096)\n",
      "The compressed feature's shape is (2474, 512)\n",
      "The compressed feature of (fc6) has been write to disk\n",
      "Load Compressed feature is OK!\n",
      "Caculate hamming distance is (15.846525)s!\n",
      "The Hamming Distance of (fc6) has been write to disk\n"
     ]
    }
   ],
   "source": [
    "#!/usr/bin/env python\n",
    "# coding=utf-8\n",
    "import time\n",
    "import CompressFeatureWithWriteToDisk \n",
    "import CalHammingDistanceWithWriteToDisk\n",
    "import PlotPresicionRecall\n",
    "\n",
    "\n",
    "\n",
    "\n",
    "if __name__=='__main__':\n",
    "    \n",
    "#     Conv3_compress=CompressFeatureWithWriteToDisk.CompressFeature(\"fc6\")    \n",
    "#     Conv3_compress.FeatureCompress()\n",
    "#     Conv3_compress.WriteCompressedFeature()\n",
    "    \n",
    "    \n",
    "    \n",
    "#     conv3Hamming=CalHammingDistanceWithWriteToDisk.HammingDistance('fc6')\n",
    "#     conv3Hamming.LoadCompressedFeature()\n",
    "#     start=time.clock()\n",
    "#     conv3Hamming.CalHammingDistance()\n",
    "#     end=time.clock()\n",
    "#     print \"Caculate hamming distance is (%f)s!\"  %(end-start)\n",
    "#     conv3Hamming.WriteHammingDistance()\n",
    "    \n",
    "    \n",
    "    conv3Plot=PlotPresicionRecall.PlotPrecisionRecall('fc6')\n",
    "    conv3Plot.LoadHammingDistance()\n",
    "    conv3Plot.FindMaxAndMinDistance()\n",
    "    conv3Plot.PlotPrecisionRecall()"
   ]
  },
  {
   "cell_type": "code",
   "execution_count": null,
   "metadata": {
    "collapsed": true
   },
   "outputs": [],
   "source": []
  },
  {
   "cell_type": "code",
   "execution_count": null,
   "metadata": {
    "collapsed": true
   },
   "outputs": [],
   "source": []
  },
  {
   "cell_type": "code",
   "execution_count": null,
   "metadata": {
    "collapsed": true
   },
   "outputs": [],
   "source": []
  },
  {
   "cell_type": "code",
   "execution_count": null,
   "metadata": {
    "collapsed": true
   },
   "outputs": [],
   "source": []
  },
  {
   "cell_type": "code",
   "execution_count": null,
   "metadata": {
    "collapsed": true
   },
   "outputs": [],
   "source": []
  }
 ],
 "metadata": {
  "kernelspec": {
   "display_name": "Python 2",
   "language": "python",
   "name": "python2"
  },
  "language_info": {
   "codemirror_mode": {
    "name": "ipython",
    "version": 2
   },
   "file_extension": ".py",
   "mimetype": "text/x-python",
   "name": "python",
   "nbconvert_exporter": "python",
   "pygments_lexer": "ipython2",
   "version": "2.7.6"
  }
 },
 "nbformat": 4,
 "nbformat_minor": 0
}
